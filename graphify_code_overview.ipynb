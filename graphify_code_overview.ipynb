{
 "cells": [
  {
   "cell_type": "markdown",
   "metadata": {},
   "source": [
    "# Graphify: Data Visualization Made Easy\n",
    "This notebook provides an overview of the Graphify,a desktop tool for data visualization built using Python's Tkinter, Pandas, Matplotlib, and Seaborn.\n",
    "## Overview\n",
    "\n",
    "Graphify allows users to load CSV files, view and clean datasets, and visualize data using various plot types. The application features a user-friendly GUI for easy interaction with data.\n",
    "\n",
    "For the complete implementation, refer to the `graphify_code.py` file.\n",
    "## Key Functionalities\n",
    "\n",
    "### 1. Loading Datasets\n",
    "\n",
    "Users can load CSV files into the application."
   ]
  },
  {
   "cell_type": "code",
   "execution_count": 7,
   "metadata": {},
   "outputs": [],
   "source": [
    "import tkinter as tk\n",
    "from tkinter import filedialog, messagebox, ttk\n",
    "import pandas as pd\n",
    "import matplotlib.pyplot as plt\n",
    "import seaborn as sns\n",
    "from matplotlib.backends.backend_tkagg import FigureCanvasTkAgg\n",
    "from PIL import Image, ImageTk \n",
    "root = tk.Tk()\n",
    "root.title(\"Graphify: Data Visualization Made Easy\")\n",
    "root.geometry(\"600x500\")\n",
    "root.configure(bg=\"#f0f8ff\")  # Background color\n",
    "def load_dataset():\n",
    "    global dataset\n",
    "    file_path = filedialog.askopenfilename(filetypes=[(\"CSV files\", \"*.csv\")])\n",
    "    if file_path:\n",
    "        try:\n",
    "            dataset = pd.read_csv(file_path)\n",
    "            messagebox.showinfo(\"Success\", f\"Dataset loaded successfully!\\nShape: {dataset.shape}\")\n",
    "        except Exception as e:\n",
    "            messagebox.showerror(\"Error\", f\"Failed to load dataset: {str(e)}\")\n",
    "    else:\n",
    "        messagebox.showwarning(\"Warning\", \"No file selected!\")"
   ]
  },
  {
   "cell_type": "markdown",
   "metadata": {},
   "source": [
    "### 2. Dataset Preview\n",
    "The application provides a preview of the loaded dataset."
   ]
  },
  {
   "cell_type": "code",
   "execution_count": 8,
   "metadata": {},
   "outputs": [],
   "source": [
    "def view_dataset():\n",
    "    global dataset\n",
    "    if dataset is not None:\n",
    "        preview_window = tk.Toplevel(root)\n",
    "        preview_window.title(\"Dataset Preview\")\n",
    "        preview_window.geometry(\"800x400\")\n",
    "        preview_window.configure(bg=\"#f0f8ff\")  # Background color\n",
    "        \n",
    "        cols = list(dataset.columns)\n",
    "        tree = ttk.Treeview(preview_window, columns=cols, show='headings')\n",
    "        for col in cols:\n",
    "            tree.heading(col, text=col)\n",
    "            tree.column(col, width=100, anchor=tk.CENTER)\n",
    "\n",
    "        # Add rows to the table\n",
    "        for _, row in dataset.iterrows():\n",
    "            tree.insert(\"\", tk.END, values=row.tolist())\n",
    "        \n",
    "        tree.pack(fill=tk.BOTH, expand=True)\n",
    "    else:\n",
    "        messagebox.showerror(\"Error\", \"No dataset loaded!\")"
   ]
  },
  {
   "cell_type": "markdown",
   "metadata": {},
   "source": [
    "### 3. Data Cleaning\n",
    "\n",
    "Users can choose to drop rows with missing values or fill them. "
   ]
  },
  {
   "cell_type": "code",
   "execution_count": 9,
   "metadata": {},
   "outputs": [],
   "source": [
    "def clean_dataset():\n",
    "    global dataset\n",
    "    if dataset is not None:\n",
    "        clean_window = tk.Toplevel(root)\n",
    "        clean_window.title(\"Data Cleaning\")\n",
    "        clean_window.geometry(\"400x300\")\n",
    "        clean_window.configure(bg=\"#f0f8ff\")  # Background color\n",
    "        \n",
    "        # Option to drop or fill missing values\n",
    "        option_label = tk.Label(clean_window, text=\"Choose cleaning operation:\", bg=\"#f0f8ff\", font=(\"Arial\", 12, \"bold\"))\n",
    "        option_label.pack(pady=10)\n",
    "        \n",
    "        action = tk.StringVar(value=\"drop\")  # Default action is drop\n",
    "        drop_button = tk.Radiobutton(clean_window, text=\"Drop rows with missing values\", variable=action, value=\"drop\", bg=\"#f0f8ff\", font=(\"Arial\", 12))\n",
    "        drop_button.pack(pady=5)\n",
    "        \n",
    "        fill_button = tk.Radiobutton(clean_window, text=\"Fill missing values with a value\", variable=action, value=\"fill\", bg=\"#f0f8ff\", font=(\"Arial\", 12))\n",
    "        fill_button.pack(pady=5)\n",
    "\n",
    "        # If filling, ask for the value to fill\n",
    "        fill_value_label = tk.Label(clean_window, text=\"Fill value (mean/median):\", bg=\"#f0f8ff\", font=(\"Arial\", 12, \"bold\"))\n",
    "        fill_value_label.pack(pady=10)\n",
    "        \n",
    "        fill_value_entry = tk.Entry(clean_window, bg=\"#ffffff\", fg=\"#000000\", font=(\"Arial\", 12))\n",
    "        fill_value_entry.pack(pady=5)\n",
    "\n",
    "        def perform_cleaning():\n",
    "            if action.get() == \"drop\":\n",
    "                dataset.dropna(inplace=True)\n",
    "                messagebox.showinfo(\"Success\", \"Rows with missing values dropped.\")\n",
    "            elif action.get() == \"fill\":\n",
    "                fill_value = fill_value_entry.get().lower()\n",
    "                if fill_value == \"mean\":\n",
    "                    dataset.fillna(dataset.mean(), inplace=True)\n",
    "                    messagebox.showinfo(\"Success\", \"Missing values filled with mean.\")\n",
    "                elif fill_value == \"median\":\n",
    "                    dataset.fillna(dataset.median(), inplace=True)\n",
    "                    messagebox.showinfo(\"Success\", \"Missing values filled with median.\")\n",
    "                else:\n",
    "                    messagebox.showwarning(\"Warning\", \"Invalid fill value. Use 'mean' or 'median'.\")\n",
    "            \n",
    "            clean_window.destroy()\n",
    "        \n",
    "        clean_button = tk.Button(clean_window, text=\"Clean Data\", command=perform_cleaning, bg=\"#4CAF50\", fg=\"white\", font=(\"Arial\", 12, \"bold\"))\n",
    "        clean_button.pack(pady=20)\n",
    "    else:\n",
    "        messagebox.showerror(\"Error\", \"No dataset loaded!\")"
   ]
  },
  {
   "cell_type": "markdown",
   "metadata": {},
   "source": [
    "### 4. Data Visualization\n",
    "Users can create various types of visualizations. Here’s a snippet from the `visualize_dataset()` function"
   ]
  },
  {
   "cell_type": "code",
   "execution_count": 10,
   "metadata": {},
   "outputs": [],
   "source": [
    "def visualize_dataset():\n",
    "    global dataset\n",
    "    if dataset is not None:\n",
    "        vis_window = tk.Toplevel(root)\n",
    "        vis_window.title(\"Dataset Visualization\")\n",
    "        vis_window.geometry(\"600x700\")\n",
    "        vis_window.configure(bg=\"#f0f8ff\")  # Background color\n",
    "        \n",
    "        # Plot type selection\n",
    "        plot_type_label = tk.Label(vis_window, text=\"Select Plot Type:\", bg=\"#f0f8ff\", font=(\"Arial\", 12, \"bold\"))\n",
    "        plot_type_label.pack()\n",
    "        \n",
    "        plot_type = ttk.Combobox(vis_window, values=[\"Bar Plot\", \"Line Plot\", \"Scatter Plot\", \"Box Plot\", \"Heatmap\"])\n",
    "        plot_type.pack()\n",
    "\n",
    "        # X-axis and Y-axis selection\n",
    "        x_label = tk.Label(vis_window, text=\"Select X-axis:\", bg=\"#f0f8ff\", font=(\"Arial\", 12, \"bold\"))\n",
    "        x_label.pack()\n",
    "        \n",
    "        x_axis = ttk.Combobox(vis_window, values=list(dataset.columns))\n",
    "        x_axis.pack()\n",
    "        \n",
    "        y_label = tk.Label(vis_window, text=\"Select Y-axis:\", bg=\"#f0f8ff\", font=(\"Arial\", 12, \"bold\"))\n",
    "        y_label.pack()\n",
    "        \n",
    "        y_axis = ttk.Combobox(vis_window, values=list(dataset.columns))\n",
    "        y_axis.pack()\n",
    "\n",
    "        # Additional code for plotting..."
   ]
  },
  {
   "cell_type": "markdown",
   "metadata": {},
   "source": [
    "## Conclusion\n",
    "\n",
    "This notebook serves as a guide to understanding the key functionalities of the Graphify application. For the complete code implementation, please refer to the `graphify_code.py` file.\n",
    "\n",
    "Feel free to explore the repository, and for any questions or contributions, reach out!"
   ]
  }
 ],
 "metadata": {
  "kernelspec": {
   "display_name": "base",
   "language": "python",
   "name": "python3"
  },
  "language_info": {
   "codemirror_mode": {
    "name": "ipython",
    "version": 3
   },
   "file_extension": ".py",
   "mimetype": "text/x-python",
   "name": "python",
   "nbconvert_exporter": "python",
   "pygments_lexer": "ipython3",
   "version": "3.11.5"
  }
 },
 "nbformat": 4,
 "nbformat_minor": 2
}
